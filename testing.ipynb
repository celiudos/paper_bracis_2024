{
 "cells": [
  {
   "cell_type": "markdown",
   "metadata": {},
   "source": [
    "# Testing the solution\n"
   ]
  },
  {
   "cell_type": "markdown",
   "metadata": {},
   "source": [
    "## Example\n"
   ]
  },
  {
   "cell_type": "code",
   "execution_count": 1,
   "metadata": {},
   "outputs": [],
   "source": [
    "TEXT_LOADED = \"Marinalva Bete Raz e Jorge Luiz receberam R$ 3.829,83 reais.\"\n",
    "DADOS_LOADED = {\n",
    "    \"NOME\": [\"Marinalva Bete Raz\", \"Jorge Luiz\"],\n",
    "    \"DINHEIRO\": [\"R$ 3.829,83\"],\n",
    "}"
   ]
  },
  {
   "cell_type": "code",
   "execution_count": 16,
   "metadata": {},
   "outputs": [],
   "source": [
    "EXAMPLES = [\n",
    "    [\n",
    "        \"\"\"EMENTA : APELAÇÃO CÍVEL - AÇÃO DE INDENIZAÇÃO POR DANOS MORAIS - PRELIMINAR - ARGUIDA PELO MINISTÉRIO PÚBLICO EM CRAU RECURSAL - NULIDADE - AUSÊNCIA DE INTERVENÇÃO DO PARQUET NA INSTÂNCIA A QUO - PRESENÇA DE INCAPAZ - PREJUÍZO EXISTENTE - PRELIMINAR ACOLHIDA - NULIDADE RECONHECIDA, O autor, Daniel Mendes, nascido em dezembro de 1990, com CPF 490.183.567-10 e telefone 0800 170 6459, é proprietário do endereço Praia Antônio Caldeira, 4, no CEP 28866-051. Ele também é dono da conta bancária com saldo de 43,95 e pode ser contatado pelo e-mail santosbarbara@example.net. O Ministério Público, representado pelo CPF 127.034.685-81 e telefone 61 6556 4995, e-mail frezende@example.net, também pode ser contatado. O valor da indenização é de RS 3,58 e o autor tem um prazo para depositar o dinheiro no banco.\"\"\"\n",
    "    ],\n",
    "    [\n",
    "        \"\"\"Falsificação de documento público, uso de documento falso. Anotação de Responsabilidade Técnica Nº 1055330634101 de 12 de janeiro de 2013 relativa à Lei Federal Nº 531. \n",
    " \n",
    "Trata-se de representação referente a possível falsificação documentação técnica registrada pelo CREA-SP, feita pelo senhor Francis Pantele da Cozzi, CPF: 412.612.341-32, telefone (31) 951358433, email fran@bol.com, atinente à sua contratação pela senhora Marinalva Bete Raz, CPF: 049.567.041-22, telefone (61) 9412 3333, mulher branca, opinião política conservadora, religião evangélica. \n",
    "\n",
    "Marinalva Bete Raz reclama por indenização por danos morais no dia 14.05.2013 no valor de R$ 82.662,00 (Oitenta e dois mil, seiscentos e sessenta e dois reais) relacionado ao endereço IP 192.168.01 e ao endereço constante no CEP 59123-222, Rua dos Pioneiros, nº 450, Jardim Esmeralda, Campo Grande, MS. \n",
    "\n",
    "Ela afirma que precisa deste dinheiro o mais rápido possível, já que sua saúde está comprometida, pois sofre de asma. \n",
    "\n",
    " A parte Francis Pantele da Cozzi afirma que apenas possui 5.534,00 reais como patrimônio e precisa do dinheiro para sustentar seu filho menor de idade chamado Josué Vittas. \"\"\"\n",
    "    ],\n",
    "]"
   ]
  },
  {
   "cell_type": "markdown",
   "metadata": {},
   "source": [
    "## Loading the model\n"
   ]
  },
  {
   "cell_type": "code",
   "execution_count": null,
   "metadata": {},
   "outputs": [],
   "source": [
    "from transformers import pipeline, AutoTokenizer\n",
    "import torch\n",
    "\n",
    "\n",
    "def get_transformer():\n",
    "    model_name = \"pierreguillou/ner-bert-large-cased-pt-lenerbr\"\n",
    "    tokenizer = AutoTokenizer.from_pretrained(\n",
    "        model_name,\n",
    "        max_length=512,\n",
    "        model_max_length=512,\n",
    "        truncation=True,\n",
    "    )\n",
    "    return pipeline(\n",
    "        \"ner\",\n",
    "        tokenizer=tokenizer,\n",
    "        model=model_name,\n",
    "        aggregation_strategy=\"first\",\n",
    "        device=0 if torch.cuda.is_available() else -1,\n",
    "    )\n",
    "\n",
    "\n",
    "TRANSFORMER_MODEL = get_transformer()"
   ]
  },
  {
   "cell_type": "markdown",
   "metadata": {},
   "source": [
    "## Loading the model and regex\n"
   ]
  },
  {
   "cell_type": "code",
   "execution_count": null,
   "metadata": {},
   "outputs": [],
   "source": [
    "from utils.ModeloNerUtils import (\n",
    "    ModeloNerUtils,\n",
    ")\n",
    "\n",
    "ModeloNerUtilsObj = ModeloNerUtils(transformer=TRANSFORMER_MODEL)\n",
    "resposta_gerada = ModeloNerUtilsObj.run(TEXT_LOADED)\n",
    "resposta_gerada"
   ]
  },
  {
   "cell_type": "markdown",
   "metadata": {},
   "source": [
    "## Loading UI\n"
   ]
  },
  {
   "cell_type": "code",
   "execution_count": null,
   "metadata": {},
   "outputs": [],
   "source": [
    "import gradio as gr\n",
    "\n",
    "\n",
    "def show_ner(text):\n",
    "    texto_anonimizado, segredo_de_anonimizacao, entidades_gradio = (\n",
    "        ModeloNerUtilsObj.run(text)\n",
    "    )\n",
    "    return entidades_gradio, segredo_de_anonimizacao\n",
    "\n",
    "\n",
    "gr.Interface(\n",
    "    fn=show_ner,\n",
    "    theme=\"soft\",\n",
    "    js=\"() => {document.body.classList.remove('dark')}\",\n",
    "    title=\"Evaluation\",\n",
    "    inputs=[\n",
    "        gr.Textbox(label=\"Input\", lines=3),\n",
    "    ],\n",
    "    outputs=[\n",
    "        gr.HighlightedText(\n",
    "            label=\"Output\",\n",
    "            show_legend=True,\n",
    "        ),\n",
    "        gr.JSON(\n",
    "            label=\"Entities\",\n",
    "        ),\n",
    "    ],\n",
    "    live=True,\n",
    "    examples=EXAMPLES,\n",
    "    allow_flagging=\"never\",\n",
    ").launch(\n",
    "    inbrowser=True,\n",
    ")"
   ]
  }
 ],
 "metadata": {
  "kernelspec": {
   "display_name": "Python 3",
   "language": "python",
   "name": "python3"
  },
  "language_info": {
   "codemirror_mode": {
    "name": "ipython",
    "version": 3
   },
   "file_extension": ".py",
   "mimetype": "text/x-python",
   "name": "python",
   "nbconvert_exporter": "python",
   "pygments_lexer": "ipython3",
   "version": "3.9.18"
  }
 },
 "nbformat": 4,
 "nbformat_minor": 2
}
