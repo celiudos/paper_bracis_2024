{
 "cells": [
  {
   "cell_type": "markdown",
   "metadata": {},
   "source": [
    "# Testing the solution\n"
   ]
  },
  {
   "cell_type": "markdown",
   "metadata": {},
   "source": [
    "## Example\n"
   ]
  },
  {
   "cell_type": "code",
   "execution_count": null,
   "metadata": {},
   "outputs": [],
   "source": [
    "TEXT_LOADED = \"Marinalva Bete Raz e Jorge Luiz receberam R$ 3.829,83 reais.\"\n",
    "DADOS_LOADED = {\n",
    "    \"NOME\": [\"Marinalva Bete Raz\", \"Jorge Luiz\"],\n",
    "    \"DINHEIRO\": [\"R$ 3.829,83\"],\n",
    "}"
   ]
  },
  {
   "cell_type": "code",
   "execution_count": null,
   "metadata": {},
   "outputs": [],
   "source": [
    "EXAMPLES = [\n",
    "    [\n",
    "        \"\"\"EMENTA : APELAÇÃO CÍVEL - AÇÃO DE INDENIZAÇÃO POR DANOS MORAIS - PRELIMINAR - ARGUIDA PELO MINISTÉRIO PÚBLICO EM CRAU RECURSAL - NULIDADE - AUSÊNCIA DE INTERVENÇÃO DO PARQUET NA INSTÂNCIA A QUO - PRESENÇA DE INCAPAZ - PREJUÍZO EXISTENTE - PRELIMINAR ACOLHIDA - NULIDADE RECONHECIDA, \n",
    "\n",
    "O autor, Daniel Mendes, nascido em dezembro de 1990, com CPF 490.183.567-10 e telefone 0800 170 6459, é proprietário do endereço Praia Antônio Caldeira, 4, no CEP 28866-051. \n",
    "\n",
    "Ele também é dono da conta bancária com saldo de 43,95, o equivalente a menos que um salário mínimo, e pode ser contatado pelo e-mail santosbarbara@example.net. \n",
    "\n",
    "O Ministério Público, representado pelo CPF 127.034. 685- 81 e telefone 61 6556 4995, e-mail frezende@example.net, também pode ser contatado. \n",
    "\n",
    "O valor da indenização é de RS 3,58 (três reais e cinquenta e oito centavos) e o autor tem um prazo para depositar o dinheiro no banco.\"\"\"\n",
    "    ],\n",
    "    [\n",
    "        \"\"\"Falsificação de documento público, uso de documento falso. Anotação de Responsabilidade Técnica Nº 1055330634101 de 12 de janeiro de 2013 relativa à Lei Federal Nº 531. \n",
    " \n",
    "Trata-se de representação referente a possível falsificação documentação técnica registrada pelo CREA-SP, feita pelo senhor Francis Pantele da Cozzi, CPF: 412.612.341-32, telefone (31) 951358433, email fran@bol.com, atinente à sua contratação pela senhora Marinalva Bete Raz, CPF: 049.567.041-22, telefone (61) 9412 3333, mulher branca, opinião política conservadora, religião evangélica. \n",
    "\n",
    "Marinalva Bete Raz reclama por indenização por danos morais no dia 14.05.2013 no valor de R$ 82.662,00 (Oitenta e dois mil, seiscentos e sessenta e dois reais) relacionado ao endereço IP 192.168.01 e ao endereço constante no CEP 59123-222, Rua dos Pioneiros, nº 450, Jardim Esmeralda, Campo Grande, MS. \n",
    "\n",
    "Ela afirma que precisa deste dinheiro o mais rápido possível, já que sua saúde está comprometida, pois sofre de asma. \n",
    "\n",
    " A parte Francis Pantele da Cozzi afirma que apenas possui 5.534,00 reais como patrimônio e precisa do dinheiro para sustentar seu filho menor de idade chamado Josué Vittas. \"\"\"\n",
    "    ],\n",
    "]"
   ]
  },
  {
   "cell_type": "markdown",
   "metadata": {},
   "source": [
    "## Loading the model\n"
   ]
  },
  {
   "cell_type": "markdown",
   "metadata": {},
   "source": [
    "### Default Model\n"
   ]
  },
  {
   "cell_type": "code",
   "execution_count": null,
   "metadata": {},
   "outputs": [],
   "source": [
    "from utils.ModeloNerUtils import (\n",
    "    ModeloNerUtils,\n",
    ")\n",
    "from transformers import pipeline, AutoTokenizer\n",
    "import torch\n",
    "import os\n",
    "\n",
    "\n",
    "def get_transformer(\n",
    "    model_name=\"pierreguillou/ner-bert-large-cased-pt-lenerbr\",\n",
    "):\n",
    "    tokenizer = AutoTokenizer.from_pretrained(\n",
    "        pretrained_model_name_or_path=model_name,\n",
    "        max_length=512,\n",
    "        model_max_length=512,\n",
    "        truncation=True,\n",
    "    )\n",
    "    return pipeline(\n",
    "        \"ner\",\n",
    "        tokenizer=tokenizer,\n",
    "        model=model_name,\n",
    "        aggregation_strategy=\"first\",\n",
    "        device=0 if torch.cuda.is_available() else -1,\n",
    "    )\n",
    "\n",
    "\n",
    "def get_model_plus_regex(model_name=\"pierreguillou/ner-bert-large-cased-pt-lenerbr\"):\n",
    "    model_trs = get_transformer(model_name)\n",
    "    return ModeloNerUtils(transformer=model_trs)\n",
    "\n",
    "\n",
    "# ==============\n",
    "\n",
    "ModelDefault = get_model_plus_regex()"
   ]
  },
  {
   "cell_type": "code",
   "execution_count": null,
   "metadata": {},
   "outputs": [],
   "source": [
    "def get_raw_entities(ModelDefault, text):\n",
    "    ents = ModelDefault.merge_all_models(text)\n",
    "    ents = ModelDefault.remove_labels(\n",
    "        ents,\n",
    "        [\n",
    "            \"MISC\",\n",
    "            \"LOCATION\",\n",
    "            \"LOC\",\n",
    "            \"ORGANIZACAO\",\n",
    "            \"LEGISLACAO\",\n",
    "            \"TEMPO\",\n",
    "            \"NUMERO\",\n",
    "        ],\n",
    "    )\n",
    "    ents = ModelDefault.merge_labels_from_to(ents)\n",
    "    for e in ents:\n",
    "        if \"score\" not in e:\n",
    "            e[\"score\"] = 1\n",
    "    return ents\n",
    "\n",
    "\n",
    "get_raw_entities(ModelDefault, TEXT_LOADED)\n"
   ]
  },
  {
   "cell_type": "markdown",
   "metadata": {},
   "source": [
    "### New Model\n"
   ]
  },
  {
   "cell_type": "code",
   "execution_count": null,
   "metadata": {},
   "outputs": [],
   "source": [
    "ModelNew = get_transformer(os.getenv(\"MODEL_NEW_PATH\"))"
   ]
  },
  {
   "cell_type": "code",
   "execution_count": null,
   "metadata": {},
   "outputs": [],
   "source": [
    "ModelNew(TEXT_LOADED)"
   ]
  },
  {
   "cell_type": "markdown",
   "metadata": {},
   "source": [
    "## Loading UI\n"
   ]
  },
  {
   "cell_type": "code",
   "execution_count": null,
   "metadata": {},
   "outputs": [],
   "source": [
    "import gradio as gr\n",
    "\n",
    "\n",
    "def show_ner(text, score):\n",
    "    ents_left = get_raw_entities(ModelDefault, text)\n",
    "    ents_right = ModelNew(text)\n",
    "\n",
    "    ents_left = [entity for entity in ents_left if entity[\"score\"] >= score]\n",
    "    ents_right = [entity for entity in ents_right if entity[\"score\"] >= score]  # type: ignore\n",
    "\n",
    "    out_left = {\"text\": text, \"entities\": ents_left}\n",
    "    out_right = {\"text\": text, \"entities\": ents_right}\n",
    "    return out_left, out_right\n",
    "\n",
    "\n",
    "with gr.Blocks(\n",
    "    theme=\"soft\",\n",
    "    title=\"Compare\",\n",
    "    js=\"() => {document.body.classList.remove('dark')}\",\n",
    ") as demo:\n",
    "    with gr.Row():\n",
    "        with gr.Column():\n",
    "            input_text = gr.Textbox(label=\"Input\", lines=3)\n",
    "        with gr.Column():\n",
    "            score_slider = gr.Slider(0, 1, 0.8, label=\"Score\")\n",
    "            output_diffs = gr.Markdown(label=\"Diffs\", visible=False)\n",
    "\n",
    "    with gr.Row():\n",
    "        output_1 = gr.Highlight(label=\"Current Model\", combine_adjacent=True)\n",
    "        output_2 = gr.Highlight(label=\"New Model\", combine_adjacent=True)\n",
    "\n",
    "    examples = gr.Examples(examples=EXAMPLES, inputs=[input_text, score_slider])\n",
    "\n",
    "    gr.on(\n",
    "        triggers=[\n",
    "            input_text.change,\n",
    "            score_slider.change,\n",
    "        ],\n",
    "        fn=show_ner,\n",
    "        inputs=[input_text, score_slider],\n",
    "        outputs=[output_1, output_2],\n",
    "    )\n",
    "\n",
    "# ==========\n",
    "\n",
    "# demo.launch(inbrowser=True)\n",
    "demo.launch()"
   ]
  }
 ],
 "metadata": {
  "kernelspec": {
   "display_name": "Python 3",
   "language": "python",
   "name": "python3"
  },
  "language_info": {
   "codemirror_mode": {
    "name": "ipython",
    "version": 3
   },
   "file_extension": ".py",
   "mimetype": "text/x-python",
   "name": "python",
   "nbconvert_exporter": "python",
   "pygments_lexer": "ipython3",
   "version": "3.9.18"
  }
 },
 "nbformat": 4,
 "nbformat_minor": 2
}
